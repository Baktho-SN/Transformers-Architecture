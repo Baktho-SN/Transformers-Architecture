{
  "nbformat": 4,
  "nbformat_minor": 0,
  "metadata": {
    "colab": {
      "provenance": []
    },
    "kernelspec": {
      "name": "python3",
      "display_name": "Python 3"
    },
    "language_info": {
      "name": "python"
    }
  },
  "cells": [
    {
      "cell_type": "markdown",
      "source": [
        "# Multihead-attention"
      ],
      "metadata": {
        "id": "1kOqgAVUHiPK"
      }
    },
    {
      "cell_type": "markdown",
      "source": [
        "# Importing required libraries"
      ],
      "metadata": {
        "id": "E6bOfcH_C78G"
      }
    },
    {
      "cell_type": "code",
      "execution_count": 2,
      "metadata": {
        "id": "ie_GvmAYB6cX"
      },
      "outputs": [],
      "source": [
        "import numpy as np\n",
        "import torch\n",
        "import torch.nn as nn\n",
        "import torch.nn.functional as F\n",
        "import math"
      ]
    },
    {
      "cell_type": "code",
      "source": [
        "seq_length = 4                                 # \"My name is Baktho\", 4 letters o sequence length is 4\n",
        "batch_size = 1                                 # just a single sentence so one batch\n",
        "input_dim = 512                                # each vector will be of 512 x 1 dimensions\n",
        "d_model = 512                                  # output of the attention unit\n",
        "x = torch.randn( ( batch_size, seq_length, input_dim  ) )"
      ],
      "metadata": {
        "id": "8_v3U9YyHv-O"
      },
      "execution_count": 3,
      "outputs": []
    },
    {
      "cell_type": "code",
      "source": [
        "x.size()"
      ],
      "metadata": {
        "colab": {
          "base_uri": "https://localhost:8080/"
        },
        "id": "VmHQmdHwIJFU",
        "outputId": "0bb5ff34-423e-4532-d96e-c3cb33b4e66e"
      },
      "execution_count": 4,
      "outputs": [
        {
          "output_type": "execute_result",
          "data": {
            "text/plain": [
              "torch.Size([1, 4, 512])"
            ]
          },
          "metadata": {},
          "execution_count": 4
        }
      ]
    },
    {
      "cell_type": "code",
      "source": [
        "qkv_layer = nn.Linear(input_dim, 3 * d_model)  # to concatenate query vec,key vec and Value vector"
      ],
      "metadata": {
        "id": "N5nI0byrILSt"
      },
      "execution_count": 5,
      "outputs": []
    },
    {
      "cell_type": "code",
      "source": [
        "qkv = qkv_layer(x)                             # pass through this layer to generate the qkv vector"
      ],
      "metadata": {
        "id": "acZmEPZKIRt3"
      },
      "execution_count": 6,
      "outputs": []
    },
    {
      "cell_type": "code",
      "source": [
        "qkv.shape                                      # 1 sentence, 4 sequence length and q,k,v vecs of each 512 dims so a total of 1536 dims"
      ],
      "metadata": {
        "colab": {
          "base_uri": "https://localhost:8080/"
        },
        "id": "wOr4MenzIU2w",
        "outputId": "4803f701-b96a-4416-a3f2-69873be2da29"
      },
      "execution_count": 7,
      "outputs": [
        {
          "output_type": "execute_result",
          "data": {
            "text/plain": [
              "torch.Size([1, 4, 1536])"
            ]
          },
          "metadata": {},
          "execution_count": 7
        }
      ]
    },
    {
      "cell_type": "code",
      "source": [
        "import matplotlib.pyplot as plt\n",
        "y_val = torch.histc(qkv, bins = 200, min = -3, max = 3)\n",
        "x_val = np.arange(-1,1,0.01)*3\n",
        "plt.bar(x_val,y_val,align = \"center\", color = ['forestgreen']) # will be a random normal dist\n",
        "plt.title('qkv distribution')"
      ],
      "metadata": {
        "colab": {
          "base_uri": "https://localhost:8080/",
          "height": 470
        },
        "id": "L5IlajDkKmpz",
        "outputId": "411a4039-2174-4a64-c89d-7ad996c3de66"
      },
      "execution_count": 8,
      "outputs": [
        {
          "output_type": "execute_result",
          "data": {
            "text/plain": [
              "Text(0.5, 1.0, 'qkv distribution')"
            ]
          },
          "metadata": {},
          "execution_count": 8
        },
        {
          "output_type": "display_data",
          "data": {
            "text/plain": [
              "<Figure size 640x480 with 1 Axes>"
            ],
            "image/png": "[encoded data removed]"
          },
          "metadata": {}
        }
      ]
    },
    {
      "cell_type": "code",
      "source": [
        "num_heads = 8                    # number of attention units/heads\n",
        "head_dim = d_model//num_heads    # each will be 512/8 = 64\n",
        " # breakdown last dimension by 8 (cuz 8 attention heads) and 3*head_dims cuz q,k,v(=3)\n",
        "qkv = qkv.reshape(batch_size,seq_length,num_heads,3 * head_dim)"
      ],
      "metadata": {
        "id": "1ZGtnXzoLJDR"
      },
      "execution_count": 9,
      "outputs": []
    },
    {
      "cell_type": "code",
      "source": [
        "qkv.shape"
      ],
      "metadata": {
        "colab": {
          "base_uri": "https://localhost:8080/"
        },
        "id": "as5HAc4AMaYU",
        "outputId": "9e177974-df64-4bc5-b2c4-637f95ec180d"
      },
      "execution_count": 10,
      "outputs": [
        {
          "output_type": "execute_result",
          "data": {
            "text/plain": [
              "torch.Size([1, 4, 8, 192])"
            ]
          },
          "metadata": {},
          "execution_count": 10
        }
      ]
    },
    {
      "cell_type": "code",
      "source": [
        "qkv = qkv.permute(0,2,1,3)        # switching 2nd and 3rd dims so itll be easier to perform parellel operations on last two dimensions\n",
        "qkv.shape"
      ],
      "metadata": {
        "colab": {
          "base_uri": "https://localhost:8080/"
        },
        "id": "qiAXNGAJMbh-",
        "outputId": "662ef823-628d-4483-d61a-e09e8986fc4b"
      },
      "execution_count": 11,
      "outputs": [
        {
          "output_type": "execute_result",
          "data": {
            "text/plain": [
              "torch.Size([1, 8, 4, 192])"
            ]
          },
          "metadata": {},
          "execution_count": 11
        }
      ]
    },
    {
      "cell_type": "code",
      "source": [
        "q,k,v = qkv.chunk(3,dim=-1)       # breaking down the tensor into q,k,v by the last dim, thus dim=-1\n",
        "q.shape,k.shape,v.shape"
      ],
      "metadata": {
        "colab": {
          "base_uri": "https://localhost:8080/"
        },
        "id": "ytMuahZyMgxw",
        "outputId": "41895e9f-df2d-419b-f557-1a55bb5c6fcf"
      },
      "execution_count": 12,
      "outputs": [
        {
          "output_type": "execute_result",
          "data": {
            "text/plain": [
              "(torch.Size([1, 8, 4, 64]),\n",
              " torch.Size([1, 8, 4, 64]),\n",
              " torch.Size([1, 8, 4, 64]))"
            ]
          },
          "metadata": {},
          "execution_count": 12
        }
      ]
    },
    {
      "cell_type": "markdown",
      "source": [
        "# Self attention for multiple heads\n",
        "\n",
        "<h4>self attention ( for single head ) </h4>\n",
        " =\n",
        "<br> <h3> softmax((Q.Kᵀ ÷ √dk) + M)V </h3>\n",
        "\n",
        "\n"
      ],
      "metadata": {
        "id": "HGiMlfuVNDbJ"
      }
    },
    {
      "cell_type": "code",
      "source": [
        "d_k = q.shape[-1]\n",
        "\n",
        "'''\n",
        "since these are 4 dimensional tensors u cant use '.T' we have to specifiy along what dimensions\n",
        "do we want the tensor to be transposed, here -2,-1\n",
        "(This is why we used permute funcion to switch 2nd and 3rd column - seq_length and head_dim - previously)\n",
        "'''\n",
        "\n",
        "scaled = torch.matmul(q,k.transpose(-2,-1))/math.sqrt(d_k)   # scaling to reduce variance\n",
        "\n",
        "# basically a 4x4 matrix - seq_length x seq_length\n",
        "scaled.shape"
      ],
      "metadata": {
        "colab": {
          "base_uri": "https://localhost:8080/"
        },
        "id": "Pj3YWMm4M5et",
        "outputId": "b8cb9826-58b4-4f95-e8a4-38af8c8cb84e"
      },
      "execution_count": 32,
      "outputs": [
        {
          "output_type": "execute_result",
          "data": {
            "text/plain": [
              "torch.Size([1, 8, 4, 4])"
            ]
          },
          "metadata": {},
          "execution_count": 32
        }
      ]
    },
    {
      "cell_type": "code",
      "source": [
        "k.T.shape                                      # small example for why we didnt use .T"
      ],
      "metadata": {
        "colab": {
          "base_uri": "https://localhost:8080/"
        },
        "id": "JFiC2QLVNa8X",
        "outputId": "a3e6d652-e475-4b88-8b8c-9a67700de267"
      },
      "execution_count": 14,
      "outputs": [
        {
          "output_type": "stream",
          "name": "stderr",
          "text": [
            "<ipython-input-14-879c2705464e>:1: UserWarning: The use of `x.T` on tensors of dimension other than 2 to reverse their shape is deprecated and it will throw an error in a future release. Consider `x.mT` to transpose batches of matrices or `x.permute(*torch.arange(x.ndim - 1, -1, -1))` to reverse the dimensions of a tensor. (Triggered internally at ../aten/src/ATen/native/TensorShape.cpp:3614.)\n",
            "  k.T.shape\n"
          ]
        },
        {
          "output_type": "execute_result",
          "data": {
            "text/plain": [
              "torch.Size([64, 4, 8, 1])"
            ]
          },
          "metadata": {},
          "execution_count": 14
        }
      ]
    },
    {
      "cell_type": "code",
      "source": [
        "k.transpose(-2,-1).shape"
      ],
      "metadata": {
        "colab": {
          "base_uri": "https://localhost:8080/"
        },
        "id": "KAuAQSnmNmgX",
        "outputId": "ad126d30-0b30-4843-fbbd-be54b59a2ed5"
      },
      "execution_count": 15,
      "outputs": [
        {
          "output_type": "execute_result",
          "data": {
            "text/plain": [
              "torch.Size([1, 8, 64, 4])"
            ]
          },
          "metadata": {},
          "execution_count": 15
        }
      ]
    },
    {
      "cell_type": "code",
      "source": [
        "mask = torch.full(scaled.size(), float('-inf')) # triangular matrix\n",
        "mask = torch.triu(mask,diagonal = 1)\n",
        "mask[0][1]                                      # this is to make sure the decoder doesnt cheat by using future words to predict present words,unnecessary for encoders"
      ],
      "metadata": {
        "colab": {
          "base_uri": "https://localhost:8080/"
        },
        "id": "ZtrCRB6UNwGT",
        "outputId": "3045747f-1a00-44e4-c2a7-50c6e4f6aabc"
      },
      "execution_count": 16,
      "outputs": [
        {
          "output_type": "execute_result",
          "data": {
            "text/plain": [
              "tensor([[0., -inf, -inf, -inf],\n",
              "        [0., 0., -inf, -inf],\n",
              "        [0., 0., 0., -inf],\n",
              "        [0., 0., 0., 0.]])"
            ]
          },
          "metadata": {},
          "execution_count": 16
        }
      ]
    },
    {
      "cell_type": "code",
      "source": [
        "scaled+=mask"
      ],
      "metadata": {
        "id": "0pn0udF7OQE_"
      },
      "execution_count": 17,
      "outputs": []
    },
    {
      "cell_type": "code",
      "source": [
        "attention = F.softmax(scaled,dim=-1)             # dim = -1 cuz the tensors will be in the last dim"
      ],
      "metadata": {
        "id": "8S_g3SufOf4C"
      },
      "execution_count": 18,
      "outputs": []
    },
    {
      "cell_type": "code",
      "source": [
        "attention.shape"
      ],
      "metadata": {
        "colab": {
          "base_uri": "https://localhost:8080/"
        },
        "id": "0UJW1SqEOx_Q",
        "outputId": "e37d6581-a64a-4319-eead-f5b1e2ca268e"
      },
      "execution_count": 19,
      "outputs": [
        {
          "output_type": "execute_result",
          "data": {
            "text/plain": [
              "torch.Size([1, 8, 4, 4])"
            ]
          },
          "metadata": {},
          "execution_count": 19
        }
      ]
    },
    {
      "cell_type": "code",
      "source": [
        "attention[0][0]                                 # every row adds up to 1, why? Probabilitieess\n",
        "# this 4x4 attention matrix tells us how much a word is related to another in the sentence"
      ],
      "metadata": {
        "colab": {
          "base_uri": "https://localhost:8080/"
        },
        "id": "7im-JmzdPFlO",
        "outputId": "8ddc1bc3-3a2e-48fe-924a-17d70fc1837b"
      },
      "execution_count": 40,
      "outputs": [
        {
          "output_type": "execute_result",
          "data": {
            "text/plain": [
              "tensor([[1.0000, 0.0000, 0.0000, 0.0000],\n",
              "        [0.4716, 0.5284, 0.0000, 0.0000],\n",
              "        [0.3850, 0.3798, 0.2353, 0.0000],\n",
              "        [0.1707, 0.3634, 0.1008, 0.3651]], grad_fn=<SelectBackward0>)"
            ]
          },
          "metadata": {},
          "execution_count": 40
        }
      ]
    },
    {
      "cell_type": "code",
      "source": [
        "values = torch.matmul(attention, v)\n",
        "values.shape                                    # this value vector will be comparatively much more context aware\n",
        "# we end up with a 64 dim vector for every sequence for every head for every batch"
      ],
      "metadata": {
        "colab": {
          "base_uri": "https://localhost:8080/"
        },
        "id": "mQArxsXAPJrB",
        "outputId": "306d7777-553f-42d8-e0da-88c58052bd3d"
      },
      "execution_count": 41,
      "outputs": [
        {
          "output_type": "execute_result",
          "data": {
            "text/plain": [
              "torch.Size([1, 8, 4, 64])"
            ]
          },
          "metadata": {},
          "execution_count": 41
        }
      ]
    },
    {
      "cell_type": "markdown",
      "source": [
        "# Function"
      ],
      "metadata": {
        "id": "9up7BsoFPUZI"
      }
    },
    {
      "cell_type": "code",
      "source": [
        "# Just combine all the above code and make it into a function\n",
        "# this will be a single self attention head\n",
        "\n",
        "def scaled_dot_product(q,k,v, mask = None):     # mask = none for encoders, mask = mask for decoders\n",
        "  d_k = q.size()[-1]\n",
        "  mm = torch.matmul(q,k.transpose(-2,-1))\n",
        "  scaled = mm/math.sqrt(d_k)\n",
        "  if mask is not None:\n",
        "    scaled = scaled+mask\n",
        "  attention = F.softmax(scaled, dim = -1)\n",
        "  output = torch.matmul(attention,v)\n",
        "  return output, attention"
      ],
      "metadata": {
        "id": "9uUZVaRyPSOJ"
      },
      "execution_count": 42,
      "outputs": []
    },
    {
      "cell_type": "code",
      "source": [
        "values, attention = scaled_dot_product(q,k,v, mask=mask)\n",
        "print(\"Q\\n\",q,\"\\nK\\n\",k,\"\\nV\\n\",v)\n",
        "print(\"Values\\n\",values,\"\\nAttention\\n\",attention)"
      ],
      "metadata": {
        "id": "189WFF23PuXT",
        "colab": {
          "base_uri": "https://localhost:8080/"
        },
        "outputId": "11298bbf-bd3e-4dce-c660-e8b0cb8d57a6"
      },
      "execution_count": 43,
      "outputs": [
        {
          "output_type": "stream",
          "name": "stdout",
          "text": [
            "Q\n",
            " tensor([[[[-0.1301,  0.0857,  0.3779,  ..., -0.0284, -0.0527, -0.6084],\n",
            "          [-0.5142,  0.5295, -0.0208,  ...,  0.3907, -0.8274,  0.0957],\n",
            "          [ 0.0505,  0.8751,  0.1564,  ..., -0.7117, -0.4734, -0.1008],\n",
            "          [-0.1558,  0.6907, -0.0031,  ...,  0.3236,  0.3047, -0.0852]],\n",
            "\n",
            "         [[ 0.1465, -0.3487,  0.4665,  ..., -0.6269,  1.0690,  0.0246],\n",
            "          [-0.3476, -1.2640,  0.6492,  ..., -0.2441, -0.9075, -0.2408],\n",
            "          [-0.1760,  0.5984,  0.9004,  ..., -0.5723, -0.9885,  0.4817],\n",
            "          [-0.5915,  0.7103,  0.0720,  ...,  0.5368, -0.9781,  0.5937]],\n",
            "\n",
            "         [[-0.5599,  0.0911, -0.2061,  ..., -0.0687, -0.8808, -1.2963],\n",
            "          [-0.1329, -0.9496,  0.3451,  ..., -0.9996,  0.9164,  0.5029],\n",
            "          [-0.1827,  0.0301, -0.2805,  ..., -0.7398,  0.4927,  1.1685],\n",
            "          [-0.2519, -0.0885, -0.3672,  ..., -0.6303,  1.0358,  0.0494]],\n",
            "\n",
            "         ...,\n",
            "\n",
            "         [[ 0.3826, -0.1644, -0.4895,  ...,  0.2282, -0.6658,  0.4612],\n",
            "          [-0.6635,  1.7157, -0.1362,  ...,  0.3737,  0.0411, -0.2279],\n",
            "          [ 0.1229,  0.1837,  0.4708,  ..., -0.3194,  0.2366,  0.4521],\n",
            "          [ 0.5046,  0.4825, -0.7043,  ..., -0.5163, -0.6824,  0.0639]],\n",
            "\n",
            "         [[ 0.5767, -0.1413,  0.0846,  ..., -0.0220, -0.3753, -1.1956],\n",
            "          [ 0.0310,  0.4445, -0.1211,  ...,  0.5121, -0.5484, -0.2760],\n",
            "          [-0.4970,  0.0895, -0.2137,  ...,  1.4042,  0.9438, -0.5531],\n",
            "          [-0.4880, -0.2332,  1.3820,  ..., -0.8128,  0.7489, -0.9454]],\n",
            "\n",
            "         [[ 0.1910, -0.9291,  0.2544,  ...,  0.0915,  0.5959, -0.1091],\n",
            "          [-0.3861, -0.5268, -0.4361,  ...,  0.4018,  0.1870,  0.5034],\n",
            "          [-0.3517,  0.9003,  0.2602,  ..., -0.8041,  0.1926,  0.1575],\n",
            "          [-0.1760,  0.0043, -0.5565,  ..., -0.6780,  0.1425, -0.1405]]]],\n",
            "       grad_fn=<SplitBackward0>) \n",
            "K\n",
            " tensor([[[[ 0.2512,  0.1917,  1.2466,  ...,  0.1790,  0.3193,  0.1534],\n",
            "          [ 0.3492,  0.3083,  0.0541,  ..., -0.5371, -0.7821, -0.5997],\n",
            "          [ 0.7284,  0.7146,  0.4072,  ..., -0.1909,  0.3667, -0.8804],\n",
            "          [ 0.0099, -0.2478,  0.3651,  ...,  0.2863, -0.9093,  0.8676]],\n",
            "\n",
            "         [[ 0.3998,  0.2728,  0.5005,  ..., -0.7906,  0.9486,  0.4153],\n",
            "          [-0.5902, -1.0270, -0.1511,  ..., -0.2160,  0.7419,  0.4261],\n",
            "          [ 0.1191,  0.2802, -0.0344,  ..., -0.4260,  0.6217,  0.5546],\n",
            "          [ 0.2842,  0.7360,  0.2878,  ...,  0.0275, -0.0234, -0.9445]],\n",
            "\n",
            "         [[-0.1391, -0.0741,  0.8217,  ...,  0.2037,  0.8128,  1.0432],\n",
            "          [-0.0378, -0.4600, -0.8267,  ..., -0.6404, -0.4500,  0.8650],\n",
            "          [ 0.1801,  0.2938, -0.0638,  ...,  0.5496, -1.1559, -0.0724],\n",
            "          [ 0.0174,  0.0256,  0.0419,  ..., -0.2558, -0.3016, -0.5297]],\n",
            "\n",
            "         ...,\n",
            "\n",
            "         [[ 0.1281,  0.5853, -0.1753,  ...,  0.0306,  0.0039,  0.9574],\n",
            "          [-0.1396,  0.1041,  0.1003,  ...,  0.3311,  0.0959,  1.3524],\n",
            "          [ 0.0853, -0.5978,  0.4311,  ...,  0.5003, -0.5919,  0.5784],\n",
            "          [ 1.2178, -0.1467,  0.8618,  ...,  0.4010, -0.9733,  0.2326]],\n",
            "\n",
            "         [[ 0.4536,  0.0539,  0.5797,  ..., -0.7283,  0.3659, -0.1727],\n",
            "          [-0.0754, -1.2806,  0.9201,  ...,  0.6207,  0.2909, -0.7042],\n",
            "          [ 0.0745, -0.7476,  0.1583,  ...,  0.2690, -1.1656, -0.4025],\n",
            "          [ 0.4567,  0.4807,  0.0494,  ..., -0.1317,  0.8798, -0.1751]],\n",
            "\n",
            "         [[-0.0373, -0.2302, -0.4908,  ..., -0.9140, -0.2334,  0.0136],\n",
            "          [ 0.3834, -0.1470, -0.4749,  ..., -0.2381, -0.3817, -0.8741],\n",
            "          [-0.8518,  0.6038, -0.0219,  ...,  0.5192, -0.4362,  0.6577],\n",
            "          [-0.2063,  0.4308, -0.0783,  ..., -0.3858,  0.0855, -0.4539]]]],\n",
            "       grad_fn=<SplitBackward0>) \n",
            "V\n",
            " tensor([[[[-1.4164,  0.0535, -0.1851,  ..., -0.1450, -0.5650,  0.1608],\n",
            "          [-0.1445, -0.1903,  0.4992,  ..., -0.8042, -0.1568, -0.7207],\n",
            "          [-0.1249,  0.4489,  0.4071,  ...,  0.7439,  0.0810, -0.9592],\n",
            "          [-0.5839,  0.5941,  0.0492,  ..., -0.1290,  0.3951,  0.2202]],\n",
            "\n",
            "         [[-0.2578,  0.4249, -0.1138,  ...,  0.5582, -0.6842, -0.5906],\n",
            "          [ 0.0749,  0.5551,  0.8033,  ...,  0.0200, -0.3221, -0.3846],\n",
            "          [ 0.8767, -0.2315,  0.6285,  ..., -0.0640, -0.6373, -0.7116],\n",
            "          [ 0.5110, -0.0541,  0.8192,  ..., -0.3072, -0.2904,  0.2611]],\n",
            "\n",
            "         [[-0.1697,  0.0190,  0.2577,  ..., -0.7374,  0.1855,  0.4657],\n",
            "          [ 0.0246, -0.1710,  0.5494,  ...,  0.6681,  0.3300, -1.4559],\n",
            "          [ 0.4023, -0.6407,  0.4784,  ..., -0.7962, -0.0460, -0.7086],\n",
            "          [-0.2466, -0.1374,  0.4374,  ..., -0.3100, -0.1764, -0.1614]],\n",
            "\n",
            "         ...,\n",
            "\n",
            "         [[ 1.1221,  0.9716,  0.2646,  ..., -0.0041, -0.5680,  0.3232],\n",
            "          [-0.5574, -0.2867,  0.4510,  ..., -0.7151, -0.7323, -0.0228],\n",
            "          [-0.2520, -0.4155, -0.2740,  ...,  0.5027,  0.2646, -0.0879],\n",
            "          [-0.8343, -0.0938, -0.3929,  ..., -1.1679, -0.4375, -0.4432]],\n",
            "\n",
            "         [[-0.4164, -0.2053, -0.2597,  ..., -0.6233, -0.3930, -0.2371],\n",
            "          [-0.9653,  1.1674,  0.2806,  ...,  0.0182, -0.0255, -0.6913],\n",
            "          [-1.1464,  0.2814,  0.4473,  ..., -0.4469, -0.0857, -0.0334],\n",
            "          [ 1.2155,  0.5358, -0.0964,  ..., -0.9328, -0.4035, -0.2047]],\n",
            "\n",
            "         [[ 0.2086,  1.1760,  0.9468,  ...,  0.1602, -0.8509,  0.4053],\n",
            "          [ 0.3248, -0.4911, -0.1564,  ..., -0.0435,  0.9738,  0.3835],\n",
            "          [-0.4656,  0.6002, -0.8254,  ..., -0.2725, -1.0653,  0.0755],\n",
            "          [ 0.3616,  0.0808,  0.5000,  ...,  0.0649,  0.6520,  0.3319]]]],\n",
            "       grad_fn=<SplitBackward0>)\n",
            "Values\n",
            " tensor([[[[-1.4164e+00,  5.3542e-02, -1.8509e-01,  ..., -1.4503e-01,\n",
            "           -5.6499e-01,  1.6076e-01],\n",
            "          [-7.4437e-01, -7.5278e-02,  1.7644e-01,  ..., -4.9331e-01,\n",
            "           -3.4934e-01, -3.0495e-01],\n",
            "          [-6.2952e-01,  5.3968e-02,  2.1408e-01,  ..., -1.8621e-01,\n",
            "           -2.5802e-01, -4.3746e-01],\n",
            "          [-5.2004e-01,  2.0214e-01,  2.0881e-01,  ..., -2.8915e-01,\n",
            "           -1.0281e-03, -2.5077e-01]],\n",
            "\n",
            "         [[-2.5778e-01,  4.2485e-01, -1.1383e-01,  ...,  5.5817e-01,\n",
            "           -6.8424e-01, -5.9062e-01],\n",
            "          [-1.0801e-01,  4.8348e-01,  2.9908e-01,  ...,  3.1587e-01,\n",
            "           -5.2121e-01, -4.9787e-01],\n",
            "          [ 2.6899e-01,  2.1635e-01,  4.3949e-01,  ...,  1.6315e-01,\n",
            "           -5.5855e-01, -5.7475e-01],\n",
            "          [ 2.7685e-01,  2.0630e-01,  5.4065e-01,  ...,  6.1812e-02,\n",
            "           -4.7872e-01, -3.7428e-01]],\n",
            "\n",
            "         [[-1.6965e-01,  1.9044e-02,  2.5765e-01,  ..., -7.3735e-01,\n",
            "            1.8553e-01,  4.6573e-01],\n",
            "          [-4.2197e-02, -1.0565e-01,  4.4910e-01,  ...,  1.8488e-01,\n",
            "            2.8033e-01, -7.9524e-01],\n",
            "          [-6.6136e-03, -1.5386e-01,  4.1718e-01,  ..., -1.1900e-01,\n",
            "            2.1894e-01, -5.4756e-01],\n",
            "          [-7.4877e-02, -1.2239e-01,  3.7982e-01,  ..., -3.4125e-01,\n",
            "            1.3555e-01, -2.1766e-01]],\n",
            "\n",
            "         ...,\n",
            "\n",
            "         [[ 1.1221e+00,  9.7157e-01,  2.6463e-01,  ..., -4.1289e-03,\n",
            "           -5.6804e-01,  3.2317e-01],\n",
            "          [ 1.6223e-01,  2.5245e-01,  3.7112e-01,  ..., -4.1043e-01,\n",
            "           -6.6191e-01,  1.2542e-01],\n",
            "          [ 1.4091e-01,  1.2419e-01,  1.5651e-01,  ..., -7.7706e-02,\n",
            "           -3.6037e-01,  8.0857e-02],\n",
            "          [ 1.2989e-01,  2.7397e-01,  1.3393e-01,  ..., -3.8707e-01,\n",
            "           -5.0831e-01,  3.3942e-02]],\n",
            "\n",
            "         [[-4.1641e-01, -2.0526e-01, -2.5967e-01,  ..., -6.2327e-01,\n",
            "           -3.9296e-01, -2.3710e-01],\n",
            "          [-7.4753e-01,  6.2275e-01,  6.6264e-02,  ..., -2.3633e-01,\n",
            "           -1.7130e-01, -5.1106e-01],\n",
            "          [-7.7783e-01,  3.3555e-01,  9.2969e-02,  ..., -3.8439e-01,\n",
            "           -2.0021e-01, -3.1714e-01],\n",
            "          [ 2.7754e-03,  5.3224e-01,  4.7254e-02,  ..., -5.5268e-01,\n",
            "           -2.5700e-01, -3.1924e-01]],\n",
            "\n",
            "         [[ 2.0861e-01,  1.1760e+00,  9.4680e-01,  ...,  1.6022e-01,\n",
            "           -8.5094e-01,  4.0531e-01],\n",
            "          [ 2.5931e-01,  4.4852e-01,  4.6540e-01,  ...,  7.1338e-02,\n",
            "           -5.4687e-02,  3.9579e-01],\n",
            "          [-1.1356e-01,  5.7674e-01, -1.5852e-01,  ..., -9.7637e-02,\n",
            "           -6.2537e-01,  2.3326e-01],\n",
            "          [ 1.8948e-01,  2.4923e-01,  2.1382e-01,  ...,  4.3806e-03,\n",
            "            1.3646e-01,  3.2383e-01]]]], grad_fn=<UnsafeViewBackward0>) \n",
            "Attention\n",
            " tensor([[[[1.0000, 0.0000, 0.0000, 0.0000],\n",
            "          [0.4716, 0.5284, 0.0000, 0.0000],\n",
            "          [0.3850, 0.3798, 0.2353, 0.0000],\n",
            "          [0.1707, 0.3634, 0.1008, 0.3651]],\n",
            "\n",
            "         [[1.0000, 0.0000, 0.0000, 0.0000],\n",
            "          [0.5498, 0.4502, 0.0000, 0.0000],\n",
            "          [0.3249, 0.2983, 0.3769, 0.0000],\n",
            "          [0.2449, 0.3039, 0.2370, 0.2141]],\n",
            "\n",
            "         [[1.0000, 0.0000, 0.0000, 0.0000],\n",
            "          [0.3438, 0.6562, 0.0000, 0.0000],\n",
            "          [0.4207, 0.4456, 0.1337, 0.0000],\n",
            "          [0.4923, 0.2365, 0.1074, 0.1638]],\n",
            "\n",
            "         [[1.0000, 0.0000, 0.0000, 0.0000],\n",
            "          [0.6364, 0.3636, 0.0000, 0.0000],\n",
            "          [0.3312, 0.4322, 0.2366, 0.0000],\n",
            "          [0.2214, 0.2238, 0.2710, 0.2838]],\n",
            "\n",
            "         [[1.0000, 0.0000, 0.0000, 0.0000],\n",
            "          [0.5965, 0.4035, 0.0000, 0.0000],\n",
            "          [0.2836, 0.3581, 0.3583, 0.0000],\n",
            "          [0.4189, 0.1418, 0.2545, 0.1847]],\n",
            "\n",
            "         [[1.0000, 0.0000, 0.0000, 0.0000],\n",
            "          [0.4285, 0.5715, 0.0000, 0.0000],\n",
            "          [0.3587, 0.3273, 0.3140, 0.0000],\n",
            "          [0.4248, 0.2798, 0.0956, 0.1997]],\n",
            "\n",
            "         [[1.0000, 0.0000, 0.0000, 0.0000],\n",
            "          [0.3968, 0.6032, 0.0000, 0.0000],\n",
            "          [0.4310, 0.2979, 0.2711, 0.0000],\n",
            "          [0.1889, 0.2699, 0.1337, 0.4075]],\n",
            "\n",
            "         [[1.0000, 0.0000, 0.0000, 0.0000],\n",
            "          [0.5636, 0.4364, 0.0000, 0.0000],\n",
            "          [0.3070, 0.1835, 0.5095, 0.0000],\n",
            "          [0.2280, 0.2814, 0.1534, 0.3372]]]], grad_fn=<SoftmaxBackward0>)\n"
          ]
        }
      ]
    },
    {
      "cell_type": "code",
      "source": [
        "attention.shape"
      ],
      "metadata": {
        "colab": {
          "base_uri": "https://localhost:8080/"
        },
        "id": "jxBD3m_IP-2F",
        "outputId": "c8c83a30-cddb-4413-fa00-a91f85196a78"
      },
      "execution_count": 44,
      "outputs": [
        {
          "output_type": "execute_result",
          "data": {
            "text/plain": [
              "torch.Size([1, 8, 4, 4])"
            ]
          },
          "metadata": {},
          "execution_count": 44
        }
      ]
    },
    {
      "cell_type": "code",
      "source": [
        "attention[0][0]"
      ],
      "metadata": {
        "colab": {
          "base_uri": "https://localhost:8080/"
        },
        "id": "urOpqMZPQBiX",
        "outputId": "9582b003-bf44-4c22-d0be-ea3192a78c85"
      },
      "execution_count": 45,
      "outputs": [
        {
          "output_type": "execute_result",
          "data": {
            "text/plain": [
              "tensor([[1.0000, 0.0000, 0.0000, 0.0000],\n",
              "        [0.4716, 0.5284, 0.0000, 0.0000],\n",
              "        [0.3850, 0.3798, 0.2353, 0.0000],\n",
              "        [0.1707, 0.3634, 0.1008, 0.3651]], grad_fn=<SelectBackward0>)"
            ]
          },
          "metadata": {},
          "execution_count": 45
        }
      ]
    },
    {
      "cell_type": "code",
      "source": [
        "values.size()"
      ],
      "metadata": {
        "colab": {
          "base_uri": "https://localhost:8080/"
        },
        "id": "wI58yFOhQFpT",
        "outputId": "b9aca821-779a-44df-87cc-7aa233eb9859"
      },
      "execution_count": 46,
      "outputs": [
        {
          "output_type": "execute_result",
          "data": {
            "text/plain": [
              "torch.Size([1, 8, 4, 64])"
            ]
          },
          "metadata": {},
          "execution_count": 46
        }
      ]
    },
    {
      "cell_type": "code",
      "source": [
        "values = values.reshape(batch_size,seq_length,num_heads * head_dim)\n",
        "values.size()"
      ],
      "metadata": {
        "colab": {
          "base_uri": "https://localhost:8080/",
          "height": 165
        },
        "id": "l9l1x_RAQG8C",
        "outputId": "a00e0aaf-1c23-4dd4-e070-98013ab299a6"
      },
      "execution_count": 47,
      "outputs": [
        {
          "output_type": "error",
          "ename": "RuntimeError",
          "evalue": "shape '[30, 5, 512]' is invalid for input of size 2048",
          "traceback": [
            "\u001b[0;31m---------------------------------------------------------------------------\u001b[0m",
            "\u001b[0;31mRuntimeError\u001b[0m                              Traceback (most recent call last)",
            "\u001b[0;32m<ipython-input-47-5b3a843d0f87>\u001b[0m in \u001b[0;36m<cell line: 1>\u001b[0;34m()\u001b[0m\n\u001b[0;32m----> 1\u001b[0;31m \u001b[0mvalues\u001b[0m \u001b[0;34m=\u001b[0m \u001b[0mvalues\u001b[0m\u001b[0;34m.\u001b[0m\u001b[0mreshape\u001b[0m\u001b[0;34m(\u001b[0m\u001b[0mbatch_size\u001b[0m\u001b[0;34m,\u001b[0m\u001b[0mseq_length\u001b[0m\u001b[0;34m,\u001b[0m\u001b[0mnum_heads\u001b[0m \u001b[0;34m*\u001b[0m \u001b[0mhead_dim\u001b[0m\u001b[0;34m)\u001b[0m\u001b[0;34m\u001b[0m\u001b[0;34m\u001b[0m\u001b[0m\n\u001b[0m\u001b[1;32m      2\u001b[0m \u001b[0mvalues\u001b[0m\u001b[0;34m.\u001b[0m\u001b[0msize\u001b[0m\u001b[0;34m(\u001b[0m\u001b[0;34m)\u001b[0m\u001b[0;34m\u001b[0m\u001b[0;34m\u001b[0m\u001b[0m\n",
            "\u001b[0;31mRuntimeError\u001b[0m: shape '[30, 5, 512]' is invalid for input of size 2048"
          ]
        }
      ]
    },
    {
      "cell_type": "code",
      "source": [
        "linear_layer = nn.Linear(d_model,d_model)\n",
        "out = linear_layer(values)\n",
        "out"
      ],
      "metadata": {
        "id": "k-0MCBmMQTwq"
      },
      "execution_count": null,
      "outputs": []
    },
    {
      "cell_type": "code",
      "source": [
        "batch_size,seq_length,num_heads,3 * head_dim"
      ],
      "metadata": {
        "colab": {
          "base_uri": "https://localhost:8080/"
        },
        "id": "6fsQHLJmQe5z",
        "outputId": "fde50db6-2067-455b-dcfe-d9a03c95b569"
      },
      "execution_count": 48,
      "outputs": [
        {
          "output_type": "execute_result",
          "data": {
            "text/plain": [
              "(30, 5, 8, 192)"
            ]
          },
          "metadata": {},
          "execution_count": 48
        }
      ]
    },
    {
      "cell_type": "markdown",
      "source": [
        "# Final Function"
      ],
      "metadata": {
        "id": "gCc1awS9Qlin"
      }
    },
    {
      "cell_type": "code",
      "source": [
        "# now we combine all the code create a multiheaded attention class for, well multihead attention mechanism\n",
        "# simply put multihead attention = multiple single headed attention whose outputs are concatenated together\n",
        "\n",
        "def scaled_dot_product(q,k,v, mask = None):\n",
        "  d_k = q.size()[-1]\n",
        "  mm = torch.matmul(q,k.transpose(-2,-1))\n",
        "  scaled = mm/math.sqrt(d_k)\n",
        "  if mask is not None:\n",
        "    scaled = scaled+mask\n",
        "  attention = F.softmax(scaled, dim = -1)\n",
        "  output = torch.matmul(attention,v)\n",
        "  return output, attention\n",
        "\n",
        "class MultiheadAttention(nn.Module):\n",
        "  def __init__(self,input_dim,d_model,num_heads):\n",
        "    super().__init__()\n",
        "    self.input_dim = input_dim\n",
        "    self.d_model = d_model\n",
        "    self.num_heads = num_heads\n",
        "    self.head_dim = d_model // num_heads\n",
        "    self.qkv_layer = nn.Linear(input_dim,3*d_model)\n",
        "    self.linear_layer = nn.Linear(d_model,d_model)\n",
        "\n",
        "  def forward(self,x,mask=None):\n",
        "\n",
        "    batch_size,sequence_length,input_dim=x.size()\n",
        "    print(f\"x.size():{x.size()}\")\n",
        "\n",
        "    qkv = self.qkv_layer(x)\n",
        "    print(f\"qkv.size():{qkv.size()}\")\n",
        "\n",
        "    qkv = qkv.reshape(batch_size,seq_length,self.num_heads,3 * self.head_dim)\n",
        "    print(f\"qkv.size():{qkv.size()}\")\n",
        "\n",
        "    qkv = qkv.permute(0,2,1,3)\n",
        "    print(f\"qkv.size():{qkv.size()}\")\n",
        "\n",
        "    q,k,v = qkv.chunk(3,dim=-1)\n",
        "    print(f\"q.size():{q.size()}, \\nk.size():{k.size()}, \\nv.size():{v.size()}\")\n",
        "\n",
        "    values, attention = scaled_dot_product(q,k,v, mask=mask)\n",
        "    print(f\"values.size():{values.size()}, \\nattention.size():{attention.size()}\")\n",
        "\n",
        "    values = values.reshape(batch_size,seq_length,self.num_heads * self.head_dim)\n",
        "    print(f\"values.size():{values.size()}\")\n",
        "\n",
        "    out = self.linear_layer(values)\n",
        "    print(f\"out.size():{out.size()}\")\n",
        "\n",
        "    return out"
      ],
      "metadata": {
        "id": "paJ6hyX3Qh84"
      },
      "execution_count": 49,
      "outputs": []
    },
    {
      "cell_type": "code",
      "source": [
        "# sample\n",
        "seq_length = 5\n",
        "batch_size = 30\n",
        "input_dim = 1024\n",
        "d_model = 512\n",
        "num_heads = 8\n",
        "\n",
        "x = torch.randn( ( batch_size, seq_length, input_dim  ) )\n",
        "\n",
        "model = MultiheadAttention( input_dim,d_model,num_heads )\n",
        "out = model.forward(x)"
      ],
      "metadata": {
        "colab": {
          "base_uri": "https://localhost:8080/"
        },
        "id": "gbI9dMSqSqvC",
        "outputId": "9ce11490-b1c0-4725-a6da-524c9dede7f8"
      },
      "execution_count": 50,
      "outputs": [
        {
          "output_type": "stream",
          "name": "stdout",
          "text": [
            "x.size():torch.Size([30, 5, 1024])\n",
            "qkv.size():torch.Size([30, 5, 1536])\n",
            "qkv.size():torch.Size([30, 5, 8, 192])\n",
            "qkv.size():torch.Size([30, 8, 5, 192])\n",
            "q.size():torch.Size([30, 8, 5, 64]), \n",
            "k.size():torch.Size([30, 8, 5, 64]), \n",
            "v.size():torch.Size([30, 8, 5, 64])\n",
            "values.size():torch.Size([30, 8, 5, 64]), \n",
            "attention.size():torch.Size([30, 8, 5, 5])\n",
            "values.size():torch.Size([30, 5, 512])\n",
            "out.size():torch.Size([30, 5, 512])\n"
          ]
        }
      ]
    },
    {
      "cell_type": "code",
      "source": [],
      "metadata": {
        "id": "v-_bnp8UTKqg"
      },
      "execution_count": 50,
      "outputs": []
    }
  ]
}